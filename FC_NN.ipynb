{
 "cells": [
  {
   "cell_type": "markdown",
   "id": "109f8137-4fe7-40b2-8fc8-563bc2b8c087",
   "metadata": {},
   "source": [
    "We first define the activation function that we will use for the neural network. In addition to the forward pass, we also need backward pass. The backward pass is the calculation of the derivative of the loss with respect to the input of the activation function, given that we know the derivative of the loss with respect to the output of the activation function."
   ]
  },
  {
   "cell_type": "code",
   "execution_count": 1,
   "id": "3c47986e",
   "metadata": {},
   "outputs": [],
   "source": [
    "def sigmoid(Z):\n",
    "    return 1/(1+np.exp(-Z))\n",
    "\n",
    "def relu(Z):\n",
    "    return np.maximum(0,Z)\n",
    "\n",
    "def softmax(Z):\n",
    "    output = np.zeros(Z.shape)\n",
    "    for i in range(Z.shape[0]):\n",
    "        output[i] = np.exp(Z[i])/np.sum(np.exp(Z[i]))\n",
    "    return output\n",
    "\n",
    "def sigmoid_backward(dA, Z):\n",
    "    sig = sigmoid(Z)\n",
    "    return dA * sig * (1 - sig)\n",
    "\n",
    "def relu_backward(dA, Z):\n",
    "    dZ = np.array(dA, copy = True)\n",
    "    dZ[Z <= 0] = 0;\n",
    "    return dZ;\n",
    "\n",
    "def softmax_backward(dA, Z):\n",
    "    dZ = np.zeros((Z.shape[0],Z.shape[1]))\n",
    "    for i in range(Z.shape[0]):\n",
    "        dZ[i] = (-Z[np.newaxis,i].T@Z[np.newaxis,i]+np.diag(Z[i]))@dA[i]\n",
    "    return dZ"
   ]
  },
  {
   "cell_type": "markdown",
   "id": "d673a86a-ab9d-4b2f-aebd-2d24d5a7461b",
   "metadata": {},
   "source": [
    "We initialize the layers of the neural network. We need the input size and for each layer we need the output size and the activation function. We will use a dictionary to keep the weights and the biases. For the wights and the biases we use a normal distribution with mean 0 and standard deviation 0.1 ."
   ]
  },
  {
   "cell_type": "code",
   "execution_count": 2,
   "id": "39732836",
   "metadata": {},
   "outputs": [],
   "source": [
    "def init_layers(input_size, neural_network, seed = 128):\n",
    "    np.random.seed(seed)\n",
    "    weights = {}\n",
    "    layer_input_size = input_size\n",
    "    for ind, layer in enumerate(neural_network):\n",
    "        layer_output_size = layer[0]\n",
    "        weights['W' + str(ind)] = np.random.randn(layer_input_size, layer_output_size)*0.1\n",
    "        weights['b' + str(ind)] = np.random.randn(layer_output_size)*0.1\n",
    "        layer_input_size = layer_output_size\n",
    "    return weights"
   ]
  },
  {
   "cell_type": "markdown",
   "id": "d5415e7b-47fd-45fe-bddd-a6dffaabab00",
   "metadata": {},
   "source": [
    "The forward pass for a single layer. To be able to use batch input, we will keep the first dimension of the matrices as the index of the inputs."
   ]
  },
  {
   "cell_type": "code",
   "execution_count": 3,
   "id": "4111ecfd",
   "metadata": {},
   "outputs": [],
   "source": [
    "def single_forward_pass(x, W, b, activation=\"relu\"):\n",
    "\n",
    "    output = x@W + b\n",
    "    \n",
    "    if activation == \"relu\":\n",
    "        activation_func = relu\n",
    "    elif activation == \"sigmoid\":\n",
    "        activation_func = sigmoid\n",
    "    elif activation == \"softmax\":\n",
    "        activation_func = softmax\n",
    "    else:\n",
    "        raise Exception('Non-supported activation function')\n",
    "        \n",
    "    return activation_func(output), output"
   ]
  },
  {
   "cell_type": "markdown",
   "id": "eb74d3eb-614f-4a93-9f5b-d77bd0c3f9b6",
   "metadata": {},
   "source": [
    "The forward pass for the whole model. We assume that the input is 2D, with the first dimension corresponding to different inputs. In the case of a single input we add a \"dummy\" first dimension to the input."
   ]
  },
  {
   "cell_type": "code",
   "execution_count": 4,
   "id": "8dda71d5",
   "metadata": {},
   "outputs": [],
   "source": [
    "def full_forward_pass(X, params_values, neural_network):\n",
    "    memory = {}\n",
    "    if len(X.shape) == 1:\n",
    "        X = X[np.newaxis,:]\n",
    "    for idx, layer in enumerate(neural_network):\n",
    "        memory[\"X\" + str(idx)] = X\n",
    "        \n",
    "        activ_function = layer[1]\n",
    "        W = params_values[\"W\" + str(idx)]\n",
    "        b = params_values[\"b\" + str(idx)]\n",
    "        X, Z = single_forward_pass(X, W, b, activ_function)\n",
    "        \n",
    "        memory[\"Z\" + str(idx)] = Z\n",
    "    memory[\"X\" + str(idx+1)] = X\n",
    "    return X, memory"
   ]
  },
  {
   "cell_type": "markdown",
   "id": "759e017b-9e93-44d9-85bc-79f601d54f67",
   "metadata": {},
   "source": [
    "Since we want to train our model on the MNIST dataset which is a classification problem, we will use categorical cross entropy as a loss function."
   ]
  },
  {
   "cell_type": "code",
   "execution_count": 5,
   "id": "a137f445",
   "metadata": {},
   "outputs": [],
   "source": [
    "def cross_entropy_cost(Y_hat, Y):\n",
    "    temp = softmax(Y_hat)\n",
    "    cost = 0\n",
    "    for ind, y in enumerate(Y):\n",
    "        cost -= np.log(temp[ind][np.argmax(y)])\n",
    "    return cost\n",
    "\n",
    "def convert_prob_into_class(Y):\n",
    "    return np.argmax(Y, axis=1)\n",
    "\n",
    "def get_accuracy_value(Y_hat, Y):\n",
    "    Y_hat_ = convert_prob_into_class(Y_hat)\n",
    "    return (Y_hat_ == np.argmax(Y, axis=1)).mean()"
   ]
  },
  {
   "cell_type": "markdown",
   "id": "7506a276-cccb-47dd-8f81-b408c5c3c86c",
   "metadata": {},
   "source": [
    "We are basically using the chain rule to express the derivative of the loss with respect to the input as the derivative of the loss with respect to the output multiplied by the derivative of the output with respect to the input. For the case of multiple inputs, we are averaging the derivatives, which is the most common case for batch input."
   ]
  },
  {
   "cell_type": "code",
   "execution_count": 6,
   "id": "c805a8df",
   "metadata": {},
   "outputs": [],
   "source": [
    "def single_layer_backward_propagation(dX_curr, W_curr, b_curr, Z_curr, X_prev, activation=\"relu\"):\n",
    "    m = Z_curr.shape[0]\n",
    "    \n",
    "    if activation == \"relu\":\n",
    "        backward_activation_func = relu_backward\n",
    "    elif activation == \"sigmoid\":\n",
    "        backward_activation_func = sigmoid_backward\n",
    "    elif activation == \"softmax\":\n",
    "        backward_activation_func = softmax_backward\n",
    "    else:\n",
    "        raise Exception('Non-supported activation function')\n",
    "    \n",
    "    dZ_curr = backward_activation_func(dX_curr, Z_curr)\n",
    "    \n",
    "    dW_curr = (X_prev.T@dZ_curr) / m\n",
    "    db_curr = np.sum(dZ_curr, axis=0, keepdims=True) / m\n",
    "    dX_prev = dZ_curr@W_curr.T\n",
    "    return dX_prev, dW_curr, db_curr"
   ]
  },
  {
   "cell_type": "markdown",
   "id": "9db7bc27-c0bc-4a98-b4cf-2411e9e484e3",
   "metadata": {},
   "source": [
    "For the full backward pass we need to use the values we stored in the forward pass. We are also storing the values of the gradients so that we can update the parameters later."
   ]
  },
  {
   "cell_type": "code",
   "execution_count": 7,
   "id": "5c51519b",
   "metadata": {},
   "outputs": [],
   "source": [
    "def full_backward_propagation(Y_hat, Y, memory, params_values, neural_network):\n",
    "    grads_values = {}\n",
    "    m = Y.shape[0]\n",
    "    Y = Y.reshape(Y_hat.shape)\n",
    "    dX_prev = softmax(Y_hat) - Y\n",
    "    for layer_idx_curr, layer in reversed(list(enumerate(neural_network))):\n",
    "        activ_function_curr = layer[1]\n",
    "        dX_curr = dX_prev\n",
    "        X_prev = memory[\"X\" + str(layer_idx_curr)]\n",
    "        Z_curr = memory[\"Z\" + str(layer_idx_curr)]\n",
    "        W_curr = params_values[\"W\" + str(layer_idx_curr)]\n",
    "        b_curr = params_values[\"b\" + str(layer_idx_curr)]\n",
    "        \n",
    "        dX_prev, dW_curr, db_curr = single_layer_backward_propagation(\n",
    "            dX_curr, W_curr, b_curr, Z_curr, X_prev, activ_function_curr)\n",
    "        grads_values[\"dW\" + str(layer_idx_curr)] = dW_curr\n",
    "        grads_values[\"db\" + str(layer_idx_curr)] = db_curr\n",
    "        \n",
    "    return grads_values"
   ]
  },
  {
   "cell_type": "markdown",
   "id": "03d2a2bd-69d8-430b-82a2-8bbb2ff55ed0",
   "metadata": {},
   "source": [
    "We update the parameters based on the learning rate and the gradients."
   ]
  },
  {
   "cell_type": "code",
   "execution_count": 8,
   "id": "d9d56f0d",
   "metadata": {},
   "outputs": [],
   "source": [
    "def update(params_values, grads_values, neural_network, learning_rate):\n",
    "    for layer_idx, layer in enumerate(neural_network):\n",
    "        params_values[\"W\" + str(layer_idx)] = params_values[\"W\" + str(layer_idx)] - learning_rate * grads_values[\"dW\" + str(layer_idx)] \n",
    "        params_values[\"b\" + str(layer_idx)] = params_values[\"b\" + str(layer_idx)] - learning_rate * grads_values[\"db\" + str(layer_idx)].reshape(params_values[\"b\" + str(layer_idx)].shape)\n",
    "    return params_values;"
   ]
  },
  {
   "cell_type": "markdown",
   "id": "81d25930-540c-43d7-b194-5b907259e56d",
   "metadata": {},
   "source": [
    "We combine the above functions to train our model. We use tqdm to visualize training. We have an optional shuffle parameter such that if it is true we shuffle the input on each epoch."
   ]
  },
  {
   "cell_type": "code",
   "execution_count": 9,
   "id": "962c083b",
   "metadata": {},
   "outputs": [],
   "source": [
    "from tqdm import trange  \n",
    "     \n",
    "def train(X, Y, input_size, neural_network, epochs, learning_rates, params_values=None, batch_size = 128, shuffle = True, seed=32):\n",
    "    if params_values == None:\n",
    "        params_values = init_layers(input_size, neural_network, seed=seed)\n",
    "    cost_history = []\n",
    "    accuracy_history = []\n",
    "    accuracy = 0\n",
    "    total_cost = 0\n",
    "    accuracy = 0\n",
    "    for learning_rate in learning_rates:\n",
    "        t = trange(epochs, desc='Loss = {:8.3f}, Accuracy = {:.3f}'.format(total_cost, accuracy), leave=True)\n",
    "        i = 0\n",
    "        for _ in t:\n",
    "            \n",
    "            t.refresh()\n",
    "            if shuffle:\n",
    "                p = np.random.permutation(X.shape[0])\n",
    "                X = X[p]\n",
    "                Y = Y[p]\n",
    "            Y_hat_all = np.zeros((Y.shape[0],Y.shape[1]))\n",
    "            for batch in range(0,X.shape[0],batch_size):\n",
    "                X_temp = X[batch:batch+batch_size]\n",
    "                Y_temp = Y[batch:batch+batch_size]\n",
    "                Y_hat, cashe = full_forward_pass(X_temp, params_values, neural_network)\n",
    "                cost = cross_entropy_cost(Y_hat, Y_temp)\n",
    "                \n",
    "                Y_hat_all[batch:batch+batch_size] = Y_hat\n",
    "                grads_values = full_backward_propagation(Y_hat, Y_temp, cashe, params_values, neural_network)\n",
    "                params_values = update(params_values, grads_values, neural_network, learning_rate)\n",
    "            total_cost = cross_entropy_cost(Y_hat_all, Y)/X.shape[0]\n",
    "            cost_history.append(total_cost)\n",
    "            accuracy = get_accuracy_value(Y_hat_all, Y)\n",
    "            accuracy_history.append(accuracy)\n",
    "            i = i + 1\n",
    "            t.set_description('Loss = {:8.3f}, Accuracy = {:.3f}'.format(total_cost, accuracy))\n",
    "    return params_values, cost_history, accuracy_history"
   ]
  },
  {
   "cell_type": "code",
   "execution_count": null,
   "id": "f411896a-8515-419e-bce0-380edd98cb01",
   "metadata": {},
   "outputs": [],
   "source": [
    "Code to download the MNIST dataset."
   ]
  },
  {
   "cell_type": "code",
   "execution_count": 10,
   "id": "2a8725e1",
   "metadata": {},
   "outputs": [],
   "source": [
    "import numpy as np\n",
    "from urllib import request\n",
    "import gzip\n",
    "import pickle\n",
    "\n",
    "filename = [\n",
    "[\"training_images\",\"train-images-idx3-ubyte.gz\"],\n",
    "[\"test_images\",\"t10k-images-idx3-ubyte.gz\"],\n",
    "[\"training_labels\",\"train-labels-idx1-ubyte.gz\"],\n",
    "[\"test_labels\",\"t10k-labels-idx1-ubyte.gz\"]\n",
    "]\n",
    "\n",
    "def download_mnist():\n",
    "    base_url = \"https://ossci-datasets.s3.amazonaws.com/mnist/\"\n",
    "    for name in filename:\n",
    "        print(\"Downloading \"+name[1]+\"...\")\n",
    "        request.urlretrieve(base_url+name[1], name[1])\n",
    "    print(\"Download complete.\")\n",
    "\n",
    "def save_mnist():\n",
    "    mnist = {}\n",
    "    for name in filename[:2]:\n",
    "        with gzip.open(name[1], 'rb') as f:\n",
    "            mnist[name[0]] = np.frombuffer(f.read(), np.uint8, offset=16).reshape(-1,28*28)\n",
    "    for name in filename[-2:]:\n",
    "        with gzip.open(name[1], 'rb') as f:\n",
    "            mnist[name[0]] = np.frombuffer(f.read(), np.uint8, offset=8)\n",
    "    with open(\"mnist.pkl\", 'wb') as f:\n",
    "        pickle.dump(mnist,f)\n",
    "    print(\"Save complete.\")\n",
    "\n",
    "def init():\n",
    "    download_mnist()\n",
    "    save_mnist()\n",
    "\n",
    "def load():\n",
    "    with open(\"mnist.pkl\",'rb') as f:\n",
    "        mnist = pickle.load(f)\n",
    "    return mnist[\"training_images\"], mnist[\"training_labels\"], mnist[\"test_images\"], mnist[\"test_labels\"]\n",
    "\n"
   ]
  },
  {
   "cell_type": "markdown",
   "id": "cedc126a-0adf-4086-8e6d-7ad3518d5b71",
   "metadata": {},
   "source": [
    "We load the train and test set."
   ]
  },
  {
   "cell_type": "code",
   "execution_count": 11,
   "id": "82365167",
   "metadata": {},
   "outputs": [
    {
     "name": "stdout",
     "output_type": "stream",
     "text": [
      "Downloading train-images-idx3-ubyte.gz...\n",
      "Downloading t10k-images-idx3-ubyte.gz...\n",
      "Downloading train-labels-idx1-ubyte.gz...\n",
      "Downloading t10k-labels-idx1-ubyte.gz...\n",
      "Download complete.\n",
      "Save complete.\n"
     ]
    }
   ],
   "source": [
    "init()\n",
    "x_train, t_train, x_test, t_test = load()"
   ]
  },
  {
   "cell_type": "markdown",
   "id": "b7aa5582-cebb-4b76-81d5-4f37e99d9668",
   "metadata": {},
   "source": [
    "Normalize the input to values from 0 to 1."
   ]
  },
  {
   "cell_type": "code",
   "execution_count": 12,
   "id": "951ac7af",
   "metadata": {},
   "outputs": [],
   "source": [
    "x_train = np.array(x_train)/255"
   ]
  },
  {
   "cell_type": "markdown",
   "id": "ff21458a-84d6-4ec3-a49a-533921f3701a",
   "metadata": {},
   "source": [
    "Shuffle inputs and do one hot encoding of the labels."
   ]
  },
  {
   "cell_type": "code",
   "execution_count": 13,
   "id": "463e97fb",
   "metadata": {},
   "outputs": [],
   "source": [
    "p = np.random.permutation(x_train.shape[0])\n",
    "x_train = x_train[p]\n",
    "t_train = np.array(t_train)[p]\n",
    "Y = np.zeros((t_train.shape[0],np.max(t_train)+1))\n",
    "for i in range(Y.shape[0]):\n",
    "    Y[i][t_train[i]] = 1"
   ]
  },
  {
   "cell_type": "markdown",
   "id": "dfa78770-c3f7-4f45-a7c3-da9bd23bf9ae",
   "metadata": {},
   "source": [
    "Define and train the model. We use two learning rates. The model will train with the first learning rate for 10 epochs and then continue training for another 10 epochs with the second learning rate."
   ]
  },
  {
   "cell_type": "code",
   "execution_count": 14,
   "id": "cf63fd81",
   "metadata": {},
   "outputs": [
    {
     "name": "stderr",
     "output_type": "stream",
     "text": [
      "Loss =    1.538, Accuracy = 0.923: 100%|███████████████████████████████████████████████| 10/10 [02:14<00:00, 13.47s/it]\n",
      "Loss =    1.532, Accuracy = 0.928: 100%|███████████████████████████████████████████████| 10/10 [02:13<00:00, 13.33s/it]\n"
     ]
    }
   ],
   "source": [
    "neural_network = [\n",
    "    (512, \"sigmoid\"),\n",
    "    (128, \"relu\"),\n",
    "    (10, \"sigmoid\"),\n",
    "]\n",
    "results = train(x_train, Y, x_train.shape[1], neural_network, epochs=10, learning_rates=[0.1, 0.01], batch_size = 60, shuffle = True, seed = 35)"
   ]
  },
  {
   "cell_type": "markdown",
   "id": "dc5f18a1-749e-4a8a-9c22-1cc2d9b37387",
   "metadata": {},
   "source": [
    "Make predictions on the test set and do one hot encoding of the test set."
   ]
  },
  {
   "cell_type": "code",
   "execution_count": 15,
   "id": "314bc3ef",
   "metadata": {},
   "outputs": [],
   "source": [
    "x_test = np.array(x_test)/255\n",
    "Y_pred, cashe = full_forward_pass(x_test, results[0], neural_network)\n",
    "predictions = softmax(Y_pred)\n",
    "t_test = np.array(t_test)\n",
    "Y_test = np.zeros((t_test.shape[0],np.max(t_test)+1))\n",
    "\n",
    "for i in range(Y_test.shape[0]):\n",
    "    Y_test[i][t_test[i]] = 1\n"
   ]
  },
  {
   "cell_type": "markdown",
   "id": "520e2cb2-1d27-464d-b095-c57db230b35c",
   "metadata": {},
   "source": [
    "Plot training loss and accuracy."
   ]
  },
  {
   "cell_type": "code",
   "execution_count": 16,
   "id": "ae33f447",
   "metadata": {},
   "outputs": [],
   "source": [
    "import matplotlib.pyplot as plt\n",
    "%matplotlib inline"
   ]
  },
  {
   "cell_type": "code",
   "execution_count": 17,
   "id": "be4fc870",
   "metadata": {},
   "outputs": [
    {
     "data": {
      "text/plain": [
       "Text(0, 0.5, 'Accuracy')"
      ]
     },
     "execution_count": 17,
     "metadata": {},
     "output_type": "execute_result"
    },
    {
     "data": {
      "image/png": "[encoded data removed]",
      "text/plain": [
       "<Figure size 432x288 with 2 Axes>"
      ]
     },
     "metadata": {
      "needs_background": "light"
     },
     "output_type": "display_data"
    }
   ],
   "source": [
    "plt.subplot(2, 1, 1)\n",
    "plt.plot(results[1], label='Loss')\n",
    "plt.xlabel(\"Epochs\")\n",
    "plt.ylabel(\"Loss\")\n",
    "plt.subplot(2, 1, 2)\n",
    "plt.plot(results[2], label='Accuracy')\n",
    "plt.xlabel(\"Epochs\")\n",
    "plt.ylabel(\"Accuracy\")"
   ]
  },
  {
   "cell_type": "markdown",
   "id": "a885f380-1cdf-4676-823a-b655056f5276",
   "metadata": {},
   "source": [
    "Calculate test accuracy and make some sample predictions."
   ]
  },
  {
   "cell_type": "code",
   "execution_count": 18,
   "id": "5cf8079d",
   "metadata": {},
   "outputs": [
    {
     "data": {
      "image/png": "[encoded data removed]",
      "text/plain": [
       "<Figure size 432x288 with 1 Axes>"
      ]
     },
     "metadata": {
      "needs_background": "light"
     },
     "output_type": "display_data"
    },
    {
     "name": "stdout",
     "output_type": "stream",
     "text": [
      "The predicted class is 7\n",
      "\n"
     ]
    },
    {
     "data": {
      "image/png": "[encoded data removed]",
      "text/plain": [
       "<Figure size 432x288 with 1 Axes>"
      ]
     },
     "metadata": {
      "needs_background": "light"
     },
     "output_type": "display_data"
    },
    {
     "name": "stdout",
     "output_type": "stream",
     "text": [
      "The predicted class is 9\n",
      "\n"
     ]
    },
    {
     "data": {
      "image/png": "[encoded data removed]",
      "text/plain": [
       "<Figure size 432x288 with 1 Axes>"
      ]
     },
     "metadata": {
      "needs_background": "light"
     },
     "output_type": "display_data"
    },
    {
     "name": "stdout",
     "output_type": "stream",
     "text": [
      "The predicted class is 6\n",
      "\n"
     ]
    },
    {
     "data": {
      "image/png": "[encoded data removed]",
      "text/plain": [
       "<Figure size 432x288 with 1 Axes>"
      ]
     },
     "metadata": {
      "needs_background": "light"
     },
     "output_type": "display_data"
    },
    {
     "name": "stdout",
     "output_type": "stream",
     "text": [
      "The predicted class is 6\n",
      "\n"
     ]
    },
    {
     "data": {
      "image/png": "[encoded data removed]",
      "text/plain": [
       "<Figure size 432x288 with 1 Axes>"
      ]
     },
     "metadata": {
      "needs_background": "light"
     },
     "output_type": "display_data"
    },
    {
     "name": "stdout",
     "output_type": "stream",
     "text": [
      "The predicted class is 4\n",
      "\n"
     ]
    },
    {
     "data": {
      "image/png": "[encoded data removed]",
      "text/plain": [
       "<Figure size 432x288 with 1 Axes>"
      ]
     },
     "metadata": {
      "needs_background": "light"
     },
     "output_type": "display_data"
    },
    {
     "name": "stdout",
     "output_type": "stream",
     "text": [
      "The predicted class is 3\n",
      "\n"
     ]
    },
    {
     "data": {
      "image/png": "[encoded data removed]",
      "text/plain": [
       "<Figure size 432x288 with 1 Axes>"
      ]
     },
     "metadata": {
      "needs_background": "light"
     },
     "output_type": "display_data"
    },
    {
     "name": "stdout",
     "output_type": "stream",
     "text": [
      "The predicted class is 9\n",
      "\n"
     ]
    },
    {
     "data": {
      "image/png": "[encoded data removed]",
      "text/plain": [
       "<Figure size 432x288 with 1 Axes>"
      ]
     },
     "metadata": {
      "needs_background": "light"
     },
     "output_type": "display_data"
    },
    {
     "name": "stdout",
     "output_type": "stream",
     "text": [
      "The predicted class is 1\n",
      "\n"
     ]
    },
    {
     "data": {
      "image/png": "[encoded data removed]",
      "text/plain": [
       "<Figure size 432x288 with 1 Axes>"
      ]
     },
     "metadata": {
      "needs_background": "light"
     },
     "output_type": "display_data"
    },
    {
     "name": "stdout",
     "output_type": "stream",
     "text": [
      "The predicted class is 4\n",
      "\n"
     ]
    },
    {
     "data": {
      "image/png": "[encoded data removed]",
      "text/plain": [
       "<Figure size 432x288 with 1 Axes>"
      ]
     },
     "metadata": {
      "needs_background": "light"
     },
     "output_type": "display_data"
    },
    {
     "name": "stdout",
     "output_type": "stream",
     "text": [
      "The predicted class is 7\n",
      "\n",
      "Test accuracy is 92.71%\n"
     ]
    }
   ],
   "source": [
    "correct = 0\n",
    "for i in range(x_test.shape[0]):\n",
    "    # plot the sample\n",
    "    if np.argmax(Y_test[i]) == np.argmax(predictions[i]):\n",
    "        correct = correct + 1\n",
    "    if i%1000 == 0:\n",
    "        fig = plt.figure\n",
    "        plt.imshow(x_test[i].reshape((28,28)), cmap='gray')\n",
    "        plt.show()\n",
    "        print(\"The predicted class is \" + str(np.argmax(predictions[i])))\n",
    "        print('')\n",
    "print('Test accuracy is {:.2f}%'.format(100*correct/x_test.shape[0]))   "
   ]
  }
 ],
 "metadata": {
  "kernelspec": {
   "display_name": "Python 3 (ipykernel)",
   "language": "python",
   "name": "python3"
  },
  "language_info": {
   "codemirror_mode": {
    "name": "ipython",
    "version": 3
   },
   "file_extension": ".py",
   "mimetype": "text/x-python",
   "name": "python",
   "nbconvert_exporter": "python",
   "pygments_lexer": "ipython3",
   "version": "3.12.3"
  }
 },
 "nbformat": 4,
 "nbformat_minor": 5
}
